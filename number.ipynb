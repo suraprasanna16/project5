{
 "cells": [
  {
   "cell_type": "code",
   "execution_count": null,
   "metadata": {},
   "outputs": [
    {
     "name": "stdout",
     "output_type": "stream",
     "text": [
      "Hi welcome to the game, This is a number guessing game.\n",
      "You got 7 chances to guess the number. Let's start the game\n"
     ]
    }
   ],
   "source": [
    "import random\n",
    "\n",
    "print(\"Hi welcome to the game, This is a number guessing game.\\nYou got 7 chances to guess the number. Let's start the game\")\n",
    "\n",
    "number_to_guess = random.randrange(100)\n",
    "\n",
    "chances = 7\n",
    "\n",
    "guess_counter = 0\n",
    "\n",
    "while guess_counter < chances:\n",
    "\n",
    "    guess_counter += 1\n",
    "    my_guess = int(input('Please Enter your Guess : '))\n",
    "\n",
    "    if my_guess == number_to_guess:\n",
    "        print(f'The number is {number_to_guess} and you found it right !! in the {guess_counter} attempt')\n",
    "        break\n",
    "\n",
    "    elif guess_counter >= chances and my_guess != number_to_guess:\n",
    "        print(f'Oops sorry, The number is {number_to_guess} better luck next time')\n",
    "\n",
    "    elif my_guess > number_to_guess:\n",
    "        print('Your guess is higher ')\n",
    "\n",
    "    elif my_guess < number_to_guess:\n",
    "        print('Your guess is lesser')"
   ]
  }
 ],
 "metadata": {
  "kernelspec": {
   "display_name": "Python 3",
   "language": "python",
   "name": "python3"
  },
  "language_info": {
   "codemirror_mode": {
    "name": "ipython",
    "version": 3
   },
   "file_extension": ".py",
   "mimetype": "text/x-python",
   "name": "python",
   "nbconvert_exporter": "python",
   "pygments_lexer": "ipython3",
   "version": "3.11.9"
  }
 },
 "nbformat": 4,
 "nbformat_minor": 2
}
